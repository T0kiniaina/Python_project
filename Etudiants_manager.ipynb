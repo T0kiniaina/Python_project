{
  "cells": [
    {
      "cell_type": "markdown",
      "metadata": {
        "id": "view-in-github",
        "colab_type": "text"
      },
      "source": [
        "<a href=\"https://colab.research.google.com/github/T0kiniaina/Python_project/blob/main/Etudiants_manager.ipynb\" target=\"_parent\"><img src=\"https://colab.research.google.com/assets/colab-badge.svg\" alt=\"Open In Colab\"/></a>"
      ]
    },
    {
      "cell_type": "code",
      "source": [
        "import json\n",
        "\n",
        "class Etudiant():\n",
        "  def __init__(self, nom, prenom, matricule, notes):\n",
        "    self.nom = nom\n",
        "    self.prenom = prenom\n",
        "    self.matricule = matricule\n",
        "    self.notes = notes\n",
        "\n",
        "  def ajouter_note(self, matiere, note):\n",
        "    self.notes[matiere] = note\n",
        "\n",
        "  def calculer_moyenne(self):\n",
        "    total = 0\n",
        "    for note in self.notes.values():\n",
        "      total += note\n",
        "    if not self.notes:\n",
        "      return 0\n",
        "    return total / len(self.notes)\n",
        "\n",
        "  def __str__(self):\n",
        "    return f\"Nom : {self.nom}\\nPrenom : {self.prenom}\\nMatricule : {self.matricule}\\nMoyenne : {self.calculer_moyenne():.2f}\"\n",
        "\n",
        "\n",
        "class GroupeEtudiants():\n",
        "  def __init__(self, liste = None):\n",
        "    self.liste = liste if liste is not None else []\n",
        "\n",
        "  def ajouter_etudiant(self, etudiant):\n",
        "    self.liste.append(etudiant)\n",
        "\n",
        "  def afficher_etudiants(self):\n",
        "    for etudiant in self.liste:\n",
        "      print(etudiant)\n",
        "\n",
        "  def meilleur_etudiant(self):\n",
        "    if not self.liste:\n",
        "        return None\n",
        "    meilleur = max(self.liste, key=lambda e: e.calculer_moyenne())\n",
        "    print(f\"Meilleur étudiant : {meilleur.nom} {meilleur.prenom} ({meilleur.calculer_moyenne():.2f})\")\n",
        "    return meilleur\n",
        "\n",
        "  def sauvegarder_json(self):\n",
        "    with open(\"etudiants.json\", \"w\") as f:\n",
        "        json.dump([e.__dict__ for e in self.liste], f)\n",
        "\n",
        "  def charger_json(self):\n",
        "      with open(\"etudiants.json\", \"r\") as f:\n",
        "          etudiants_dict = json.load(f)\n",
        "          self.liste = [Etudiant(d[\"nom\"], d[\"prenom\"], d[\"matricule\"], d[\"notes\"]) for d in etudiants_dict]\n",
        "\n",
        "\n",
        "def __main__():\n",
        "  groupe = GroupeEtudiants([])\n",
        "  etudiant1 = Etudiant(\"Doe\", \"John\", \"12345\", {\"Math\": 18, \"Physique\": 16})\n",
        "  etudiant2 = Etudiant(\"Smith\", \"Jane\", \"67890\", {\"Math\": 9, \"Physique\": 17})\n",
        "  groupe.ajouter_etudiant(etudiant1)\n",
        "  groupe.ajouter_etudiant(etudiant2)\n",
        "  groupe.afficher_etudiants()\n",
        "  groupe.meilleur_etudiant()\n",
        "\n",
        "if __name__ == \"__main__\":\n",
        "  __main__()"
      ],
      "metadata": {
        "id": "L_enPXNuS4qZ",
        "colab": {
          "base_uri": "https://localhost:8080/"
        },
        "outputId": "a42ad636-3757-4fd7-d5ce-0af42e075262"
      },
      "execution_count": 11,
      "outputs": [
        {
          "output_type": "stream",
          "name": "stdout",
          "text": [
            "Nom : Doe\n",
            "Prenom : John\n",
            "Matricule : 12345\n",
            "Moyenne : 17.00\n",
            "Nom : Smith\n",
            "Prenom : Jane\n",
            "Matricule : 67890\n",
            "Moyenne : 13.00\n",
            "Meilleur étudiant : Doe John (17.00)\n"
          ]
        }
      ]
    }
  ],
  "metadata": {
    "colab": {
      "provenance": [],
      "include_colab_link": true
    },
    "kernelspec": {
      "display_name": "Python 3",
      "name": "python3"
    }
  },
  "nbformat": 4,
  "nbformat_minor": 0
}
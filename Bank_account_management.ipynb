{
  "cells": [
    {
      "cell_type": "markdown",
      "metadata": {
        "id": "view-in-github",
        "colab_type": "text"
      },
      "source": [
        "<a href=\"https://colab.research.google.com/github/T0kiniaina/Python_project/blob/main/Bank_account_management.ipynb\" target=\"_parent\"><img src=\"https://colab.research.google.com/assets/colab-badge.svg\" alt=\"Open In Colab\"/></a>"
      ]
    },
    {
      "cell_type": "code",
      "source": [
        "class compteBancaire:\n",
        "    def __init__(self, solde : float = 0):\n",
        "        self.solde = solde\n",
        "\n",
        "    def ajouter_montant(self, montant):\n",
        "        self.solde += montant\n",
        "\n",
        "    def retirer_montant(self, montant):\n",
        "        if self.solde >= montant:\n",
        "            self.solde -= montant\n",
        "        else:\n",
        "            print(\"Solde insuffisant\")\n",
        "\n",
        "    def afficher_solde(self):\n",
        "        print(f\"vous avez {self.solde}Ar sur votre compte\")\n",
        "\n",
        "def main():\n",
        "    compte = compteBancaire(1000)\n",
        "    compte.ajouter_montant(500)\n",
        "    compte.retirer_montant(200)\n",
        "    compte.afficher_solde()\n",
        "\n",
        "if __name__ == \"__main__\":\n",
        "    main()"
      ],
      "metadata": {
        "id": "L_enPXNuS4qZ",
        "colab": {
          "base_uri": "https://localhost:8080/"
        },
        "outputId": "2ca446eb-620e-4d29-cfc2-d75925222a9e"
      },
      "execution_count": 2,
      "outputs": [
        {
          "output_type": "stream",
          "name": "stdout",
          "text": [
            "vous avez 1300Ar sur votre compte\n"
          ]
        }
      ]
    }
  ],
  "metadata": {
    "colab": {
      "provenance": [],
      "include_colab_link": true
    },
    "kernelspec": {
      "display_name": "Python 3",
      "name": "python3"
    }
  },
  "nbformat": 4,
  "nbformat_minor": 0
}